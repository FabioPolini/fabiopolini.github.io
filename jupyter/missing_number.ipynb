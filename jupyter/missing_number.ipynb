{
 "cells": [
  {
   "cell_type": "code",
   "execution_count": 13,
   "id": "6ddf74a5",
   "metadata": {},
   "outputs": [],
   "source": [
    "numbers=[2, 1, 4]"
   ]
  },
  {
   "cell_type": "code",
   "execution_count": 14,
   "id": "97c63dfc",
   "metadata": {},
   "outputs": [],
   "source": [
    "numbers.sort()"
   ]
  },
  {
   "cell_type": "code",
   "execution_count": 15,
   "id": "7bbfd847",
   "metadata": {},
   "outputs": [],
   "source": [
    "def missing(n):\n",
    "    i=n[0]\n",
    "    for x in n:\n",
    "        if i!=x:\n",
    "            return i\n",
    "        i+=1"
   ]
  },
  {
   "cell_type": "code",
   "execution_count": 16,
   "id": "ac275146",
   "metadata": {},
   "outputs": [
    {
     "name": "stdout",
     "output_type": "stream",
     "text": [
      "3\n"
     ]
    }
   ],
   "source": [
    "print(missing(numbers))"
   ]
  },
  {
   "cell_type": "code",
   "execution_count": null,
   "id": "235997ba",
   "metadata": {},
   "outputs": [],
   "source": []
  }
 ],
 "metadata": {
  "kernelspec": {
   "display_name": "Python 3 (ipykernel)",
   "language": "python",
   "name": "python3"
  },
  "language_info": {
   "codemirror_mode": {
    "name": "ipython",
    "version": 3
   },
   "file_extension": ".py",
   "mimetype": "text/x-python",
   "name": "python",
   "nbconvert_exporter": "python",
   "pygments_lexer": "ipython3",
   "version": "3.9.12"
  }
 },
 "nbformat": 4,
 "nbformat_minor": 5
}
